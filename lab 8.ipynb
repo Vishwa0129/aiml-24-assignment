{
 "cells": [
  {
   "cell_type": "code",
   "execution_count": 24,
   "metadata": {},
   "outputs": [
    {
     "name": "stdout",
     "output_type": "stream",
     "text": [
      "Mean Squared Error: 83.45514917845178\n",
      "R-squared: 0.9999986196947573\n"
     ]
    }
   ],
   "source": [
    "import pandas as pd\n",
    "from sklearn.model_selection import train_test_split\n",
    "from sklearn.tree import DecisionTreeRegressor\n",
    "from sklearn.metrics import mean_squared_error, r2_score,mean_absolute_error\n",
    "\n",
    "# Load the data (replace with your own path)\n",
    "data = pd.read_csv('bitcoin_dataset.csv')\n",
    "\n",
    "# Handle missing values (choose an appropriate method)\n",
    "data = data.fillna(data.mean()) \n",
    "\n",
    "# Select features and target\n",
    "X = data[['Open', 'High', 'Low', 'Volume_(BTC)', 'Volume_(Currency)', 'Weighted_Price']] \n",
    "y = data['Close'] \n",
    "\n",
    "# Split the data\n",
    "X_train, X_test, y_train, y_test = train_test_split(X, y, test_size=0.2, random_state=0)\n",
    "\n",
    "# Create and train the model\n",
    "model = DecisionTreeRegressor()\n",
    "model.fit(X_train, y_train)\n",
    "\n",
    "# Make predictions\n",
    "predictions = model.predict(X_test)\n",
    "\n",
    "# Calculate metrics\n",
    "mse = mean_squared_error(y_test, predictions)\n",
    "r2 = r2_score(y_test, predictions)\n",
    "\n",
    "# Print the metrics\n",
    "print('Mean Squared Error:', mse)\n",
    "print('R-squared:', r2) \n",
    "\n"
   ]
  },
  {
   "cell_type": "code",
   "execution_count": 29,
   "metadata": {},
   "outputs": [
    {
     "name": "stdout",
     "output_type": "stream",
     "text": [
      "Mean Squared Error: 83.45514917845178\n",
      "Root Mean Squared Error (RMSE): 9.135378983843625\n",
      "R-squared: 0.9999986196947573\n",
      "Mean Absolute Error (MAE): 2.6179606183973227\n"
     ]
    }
   ],
   "source": [
    "mse = mean_squared_error(y_test, predictions)\n",
    "r2 = r2_score(y_test, predictions)\n",
    "mae = mean_absolute_error(y_test, predictions)\n",
    "\n",
    "# Print the metrics\n",
    "print('Mean Squared Error:', mse)\n",
    "print('Root Mean Squared Error (RMSE):', mse**0.5)  # Calculating RMSE\n",
    "print('R-squared:', r2) \n",
    "print('Mean Absolute Error (MAE):', mae)"
   ]
  }
 ],
 "metadata": {
  "kernelspec": {
   "display_name": "Python 3",
   "language": "python",
   "name": "python3"
  },
  "language_info": {
   "codemirror_mode": {
    "name": "ipython",
    "version": 3
   },
   "file_extension": ".py",
   "mimetype": "text/x-python",
   "name": "python",
   "nbconvert_exporter": "python",
   "pygments_lexer": "ipython3",
   "version": "3.11.8"
  }
 },
 "nbformat": 4,
 "nbformat_minor": 2
}
