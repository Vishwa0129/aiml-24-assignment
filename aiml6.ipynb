{
 "cells": [
  {
   "cell_type": "code",
   "execution_count": 2,
   "metadata": {},
   "outputs": [
    {
     "name": "stdout",
     "output_type": "stream",
     "text": [
      "Model: Logistic Regression\n",
      "Accuracy: 0.91\n",
      "Precision: 0.91\n",
      "Recall: 0.91\n",
      "Confusion Matrix:\n",
      "[[126   6   0   0]\n",
      " [  6 106   6   0]\n",
      " [  0  12  99   9]\n",
      " [  0   0   4 126]]\n",
      "\n",
      "Model: Random Forest\n",
      "Accuracy: 0.88\n",
      "Precision: 0.88\n",
      "Recall: 0.87\n",
      "Confusion Matrix:\n",
      "[[121  11   0   0]\n",
      " [  8 101   9   0]\n",
      " [  0  13 100   7]\n",
      " [  0   0  14 116]]\n",
      "\n",
      "Model: KNN\n",
      "Accuracy: 0.41\n",
      "Precision: 0.44\n",
      "Recall: 0.41\n",
      "Confusion Matrix:\n",
      "[[79 34 17  2]\n",
      " [46 40 26  6]\n",
      " [20 38 45 17]\n",
      " [ 5 26 56 43]]\n",
      "\n"
     ]
    }
   ],
   "source": [
    "import pandas as pd\n",
    "from sklearn.preprocessing import MinMaxScaler\n",
    "from sklearn.model_selection import train_test_split\n",
    "from sklearn.linear_model import LogisticRegression\n",
    "from sklearn.ensemble import RandomForestClassifier\n",
    "from sklearn.neighbors import KNeighborsClassifier\n",
    "from sklearn.metrics import accuracy_score, precision_score, recall_score, confusion_matrix\n",
    "data = pd.read_csv('train.csv')\n",
    "features = data.drop('price_range', axis=1)\n",
    "target = data['price_range']\n",
    "scaler = MinMaxScaler()\n",
    "scaled_features = scaler.fit_transform(features)\n",
    "X_train, X_test, y_train, y_test = train_test_split(scaled_features, target, test_size=0.25, random_state=42)\n",
    "models = {\n",
    "    'Logistic Regression': LogisticRegression(),\n",
    "    'Random Forest': RandomForestClassifier(),\n",
    "    'KNN': KNeighborsClassifier()\n",
    "}\n",
    "\n",
    "for name, model in models.items():\n",
    "    model.fit(X_train, y_train)\n",
    "\n",
    "\n",
    "for name, model in models.items():\n",
    "    y_pred = model.predict(X_test)\n",
    "\n",
    "    accuracy = accuracy_score(y_test, y_pred)\n",
    "    precision = precision_score(y_test, y_pred, average='macro') \n",
    "    recall = recall_score(y_test, y_pred, average='macro')  \n",
    "    cm = confusion_matrix(y_test, y_pred)\n",
    "\n",
    "    print(f'Model: {name}')\n",
    "    print(f'Accuracy: {accuracy:.2f}')\n",
    "    print(f'Precision: {precision:.2f}')\n",
    "    print(f'Recall: {recall:.2f}')\n",
    "    print(f'Confusion Matrix:\\n{cm}\\n')"
   ]
  },
  {
   "cell_type": "code",
   "execution_count": 1,
   "metadata": {},
   "outputs": [
    {
     "name": "stdout",
     "output_type": "stream",
     "text": [
      "X_train shape: (1500, 20)\n",
      "X_test shape: (500, 20)\n",
      "y_train shape: (1500,)\n",
      "y_test shape: (500,)\n"
     ]
    }
   ],
   "source": [
    "import pandas as pd\n",
    "from sklearn.preprocessing import MinMaxScaler\n",
    "from sklearn.model_selection import train_test_split\n",
    "data = pd.read_csv('train.csv')\n",
    "features = data.drop('price_range', axis=1)\n",
    "target = data['price_range']\n",
    "scaler = MinMaxScaler()\n",
    "scaled_features = scaler.fit_transform(features)\n",
    "X_train, X_test, y_train, y_test = train_test_split(scaled_features, target, test_size=0.25, random_state=42)\n",
    "print('X_train shape:', X_train.shape)\n",
    "print('X_test shape:', X_test.shape)\n",
    "print('y_train shape:', y_train.shape)\n",
    "print('y_test shape:', y_test.shape)"
   ]
  }
 ],
 "metadata": {
  "kernelspec": {
   "display_name": "Python 3",
   "language": "python",
   "name": "python3"
  },
  "language_info": {
   "codemirror_mode": {
    "name": "ipython",
    "version": 3
   },
   "file_extension": ".py",
   "mimetype": "text/x-python",
   "name": "python",
   "nbconvert_exporter": "python",
   "pygments_lexer": "ipython3",
   "version": "3.10.13"
  }
 },
 "nbformat": 4,
 "nbformat_minor": 2
}
