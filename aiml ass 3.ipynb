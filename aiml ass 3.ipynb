{
 "cells": [
  {
   "cell_type": "code",
   "execution_count": 3,
   "metadata": {},
   "outputs": [],
   "source": [
    "import heapq\n",
    "\n",
    "def best_first_search(graph, start, end):\n",
    "    # Initialize the priority queue with the starting node and a cost of 0\n",
    "    priority_queue = [(0, start)]\n",
    "    came_from = {start: None}\n",
    "    cost_so_far = {start: 0}\n",
    "\n",
    "    while priority_queue:\n",
    "        # Get the node with the lowest path cost so far\n",
    "        current_cost, current_node = heapq.heappop(priority_queue)\n",
    "\n",
    "        # If we've already visited this node with a lower cost, skip it\n",
    "        if current_cost > cost_so_far.get(current_node, float('inf')):\n",
    "            continue\n",
    "\n",
    "        # If we've reached the end node, construct and return the shortest path\n",
    "        if current_node == end:\n",
    "            path = [end]\n",
    "            while path[-1] != start:\n",
    "                path.append(came_from[path[-1]])\n",
    "            path.reverse()\n",
    "            return path, current_cost\n",
    "\n",
    "        # Otherwise, explore the neighbors of this node\n",
    "        for neighbor, edge_cost in graph[current_node].items():\n",
    "            new_cost = current_cost + edge_cost\n",
    "            if neighbor not in cost_so_far or new_cost < cost_so_far[neighbor]:\n",
    "                # If we haven't visited this neighbor yet or we can get a cheaper path to it,\n",
    "                # update the cost so far and add it to the priority queue\n",
    "                cost_so_far[neighbor] = new_cost\n",
    "                priority = new_cost if neighbor not in came_from else new_cost - came_from[neighbor]\n",
    "                heapq.heappush(priority_queue, (priority, neighbor))\n",
    "                came_from[neighbor] = current_node\n",
    "\n",
    "    # If we haven't found a path to the end node, return None\n",
    "    return None"
   ]
  },
  {
   "cell_type": "code",
   "execution_count": 4,
   "metadata": {},
   "outputs": [],
   "source": [
    "graph = {\n",
    "    0: {5: 3},\n",
    "    1: {3: 1, 5: 2},\n",
    "    2: {2: 5},\n",
    "    3: {5: 1},\n",
    "    5: {}\n",
    "}"
   ]
  },
  {
   "cell_type": "code",
   "execution_count": 5,
   "metadata": {},
   "outputs": [
    {
     "name": "stdout",
     "output_type": "stream",
     "text": [
      "[0, 5] 3\n"
     ]
    }
   ],
   "source": [
    "path, cost = best_first_search(graph, 0, 5)\n",
    "print(path, cost)  "
   ]
  }
 ],
 "metadata": {
  "kernelspec": {
   "display_name": "Python 3",
   "language": "python",
   "name": "python3"
  },
  "language_info": {
   "codemirror_mode": {
    "name": "ipython",
    "version": 3
   },
   "file_extension": ".py",
   "mimetype": "text/x-python",
   "name": "python",
   "nbconvert_exporter": "python",
   "pygments_lexer": "ipython3",
   "version": "3.10.13"
  }
 },
 "nbformat": 4,
 "nbformat_minor": 2
}
